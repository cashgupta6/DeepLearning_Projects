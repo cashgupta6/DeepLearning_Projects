{
  "nbformat": 4,
  "nbformat_minor": 0,
  "metadata": {
    "colab": {
      "name": "kaggle.ipynb",
      "private_outputs": true,
      "provenance": [],
      "collapsed_sections": []
    },
    "kernelspec": {
      "display_name": "Python 3",
      "name": "python3"
    },
    "language_info": {
      "name": "python"
    },
    "accelerator": "GPU"
  },
  "cells": [
    {
      "cell_type": "code",
      "metadata": {
        "id": "TsPela6Cy_6f"
      },
      "source": [
        "import tensorflow as tf\n",
        "from tensorflow import keras\n",
        "import matplotlib.pyplot as plt\n",
        "import numpy as np"
      ],
      "execution_count": null,
      "outputs": []
    },
    {
      "cell_type": "code",
      "metadata": {
        "id": "IYuQmsB2zt4u"
      },
      "source": [
        "(X_train, y_train), (X_test,y_test) = tf.keras.datasets.cifar10.load_data()"
      ],
      "execution_count": null,
      "outputs": []
    },
    {
      "cell_type": "code",
      "metadata": {
        "id": "S4hcXZ7Vzuzp"
      },
      "source": [
        "X_train.shape"
      ],
      "execution_count": null,
      "outputs": []
    },
    {
      "cell_type": "markdown",
      "metadata": {
        "id": "mL_szUyx90kf"
      },
      "source": [
        "Data Visualization"
      ]
    },
    {
      "cell_type": "code",
      "metadata": {
        "id": "ure5SFBjzzEf"
      },
      "source": [
        "def plot_sample(index):\n",
        "    plt.figure(figsize = (20,2))\n",
        "    plt.imshow(X_train[index])"
      ],
      "execution_count": null,
      "outputs": []
    },
    {
      "cell_type": "code",
      "metadata": {
        "id": "9nyYIuYdz88A"
      },
      "source": [
        "plot_sample(6)"
      ],
      "execution_count": null,
      "outputs": []
    },
    {
      "cell_type": "code",
      "metadata": {
        "id": "MnAijPkg0qz9"
      },
      "source": [
        "classes = [\"airplane\",\"automobile\",\"bird\",\"cat\",\"deer\",\"dog\",\"frog\",\"horse\",\"ship\",\"truck\"]"
      ],
      "execution_count": null,
      "outputs": []
    },
    {
      "cell_type": "code",
      "metadata": {
        "id": "zFRqttel0-K4"
      },
      "source": [
        "classes[y_train[6][0]]"
      ],
      "execution_count": null,
      "outputs": []
    },
    {
      "cell_type": "code",
      "metadata": {
        "id": "eg9EyPb712Oh"
      },
      "source": [
        "len(X_test)"
      ],
      "execution_count": null,
      "outputs": []
    },
    {
      "cell_type": "markdown",
      "metadata": {
        "id": "0aD0Jo1G933X"
      },
      "source": [
        "Preprocessing: Scale images"
      ]
    },
    {
      "cell_type": "code",
      "metadata": {
        "id": "q93or-xC2Pwg"
      },
      "source": [
        "X_train_scaled = X_train / 255\n",
        "X_test_scaled = X_test / 255"
      ],
      "execution_count": null,
      "outputs": []
    },
    {
      "cell_type": "code",
      "metadata": {
        "id": "5NnwVTEj2pyP"
      },
      "source": [
        "y_train[0:5]"
      ],
      "execution_count": null,
      "outputs": []
    },
    {
      "cell_type": "code",
      "metadata": {
        "id": "gaLHhRAq2r2-"
      },
      "source": [
        "y_train_categorical = keras.utils.to_categorical(\n",
        "    y_train, num_classes=10, dtype='float32'\n",
        ")\n",
        "y_test_categorical = keras.utils.to_categorical(\n",
        "    y_test, num_classes=10, dtype='float32'\n",
        ")"
      ],
      "execution_count": null,
      "outputs": []
    },
    {
      "cell_type": "code",
      "metadata": {
        "id": "nHQtsfK72r_P"
      },
      "source": [
        "y_train_categorical[0:5]"
      ],
      "execution_count": null,
      "outputs": []
    },
    {
      "cell_type": "code",
      "metadata": {
        "id": "6cce5MKF34A5"
      },
      "source": [
        "X_train.shape"
      ],
      "execution_count": null,
      "outputs": []
    },
    {
      "cell_type": "markdown",
      "metadata": {
        "id": "TUlzKVL996sp"
      },
      "source": [
        "Model building and training"
      ]
    },
    {
      "cell_type": "code",
      "metadata": {
        "id": "oPEgWtFG3uBq"
      },
      "source": [
        "model = keras.Sequential([\n",
        "      keras.layers.Flatten(input_shape = (32,32,3)),\n",
        "      keras.layers.Dense(3000,activation = 'relu'),\n",
        "      keras.layers.Dense(1000,activation = 'relu'),\n",
        "      keras.layers.Dense(10,activation = 'sigmoid')\n",
        "])\n",
        "\n",
        "model.compile(\n",
        "    optimizer = 'SGD',\n",
        "    loss =  'categorical_crossentropy',\n",
        "    metrics = ['accuracy']\n",
        ")\n",
        "\n",
        "model.fit(X_train_scaled,y_train_categorical,epochs = 50)"
      ],
      "execution_count": null,
      "outputs": []
    },
    {
      "cell_type": "markdown",
      "metadata": {
        "id": "KP72-OkN9-CY"
      },
      "source": [
        "Let's make some predictions"
      ]
    },
    {
      "cell_type": "code",
      "metadata": {
        "id": "Y429pw3O832f"
      },
      "source": [
        "index = 875\n",
        "def plot_sample(index):\n",
        "    plt.figure(figsize = (20,2))\n",
        "    plt.imshow(X_test[index])\n",
        "plot_sample(index)\n",
        "classes[np.argmax(model.predict(X_test_scaled)[index])]"
      ],
      "execution_count": null,
      "outputs": []
    }
  ]
}