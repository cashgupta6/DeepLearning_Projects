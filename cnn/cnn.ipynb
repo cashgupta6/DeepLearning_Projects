{
  "nbformat": 4,
  "nbformat_minor": 0,
  "metadata": {
    "colab": {
      "name": "kaggle.ipynb",
      "private_outputs": true,
      "provenance": [],
      "collapsed_sections": []
    },
    "kernelspec": {
      "display_name": "Python 3",
      "name": "python3"
    },
    "language_info": {
      "name": "python"
    },
    "accelerator": "GPU"
  },
  "cells": [
    {
      "cell_type": "code",
      "metadata": {
        "id": "yb_grAr4NFmR"
      },
      "source": [
        "pip install -q -U tensorflow-addons"
      ],
      "execution_count": null,
      "outputs": []
    },
    {
      "cell_type": "code",
      "metadata": {
        "id": "kh1UpCLLslzX"
      },
      "source": [
        "import tensorflow as tf\n",
        "from tensorflow.keras import datasets, layers, models\n",
        "import matplotlib.pyplot as plt\n",
        "import numpy as np"
      ],
      "execution_count": null,
      "outputs": []
    },
    {
      "cell_type": "code",
      "metadata": {
        "id": "gfFGjqqCj9cv"
      },
      "source": [
        "(x_train,y_train),(x_test,y_test) = datasets.cifar10.load_data()"
      ],
      "execution_count": null,
      "outputs": []
    },
    {
      "cell_type": "code",
      "metadata": {
        "id": "Y2VMjqcUkVzS"
      },
      "source": [
        "x_train.shape"
      ],
      "execution_count": null,
      "outputs": []
    },
    {
      "cell_type": "code",
      "metadata": {
        "id": "e1PVaeYAkkAI"
      },
      "source": [
        "x_train[0]"
      ],
      "execution_count": null,
      "outputs": []
    },
    {
      "cell_type": "code",
      "metadata": {
        "id": "WtL4Yfbplfto"
      },
      "source": [
        "y_train[0:5]"
      ],
      "execution_count": null,
      "outputs": []
    },
    {
      "cell_type": "code",
      "metadata": {
        "id": "cX7yQ2WylkVg"
      },
      "source": [
        "y_train =y_train.reshape(-1,)\n",
        "y_train"
      ],
      "execution_count": null,
      "outputs": []
    },
    {
      "cell_type": "code",
      "metadata": {
        "id": "ayZUlqTslSJK"
      },
      "source": [
        "classes = [\"airplane\",\"automobile\",\"bird\",\"cat\",\"deer\",\"dog\",\"frog\",\"horse\",\"ship\",\"truck\"]"
      ],
      "execution_count": null,
      "outputs": []
    },
    {
      "cell_type": "code",
      "metadata": {
        "id": "6Gnd8elVl9qo"
      },
      "source": [
        "def plot_sample(x,y,index):\n",
        "  plt.figure(figsize = (15,2))\n",
        "  plt.imshow(x[index])\n",
        "  print(classes[y[index]])"
      ],
      "execution_count": null,
      "outputs": []
    },
    {
      "cell_type": "code",
      "metadata": {
        "id": "MNJFrq9wknRZ"
      },
      "source": [
        "plot_sample(x_train,y_train,1)"
      ],
      "execution_count": null,
      "outputs": []
    },
    {
      "cell_type": "code",
      "metadata": {
        "id": "cCanhxfPmzRZ"
      },
      "source": [
        "x_train = x_train/255\n",
        "x_test = x_test/255"
      ],
      "execution_count": null,
      "outputs": []
    },
    {
      "cell_type": "code",
      "metadata": {
        "id": "rJSxr5ZGss5P"
      },
      "source": [
        "cnn = models.Sequential([\n",
        "        #cnn\n",
        "        layers.Conv2D(filters = 32, kernel_size = (3,3), activation = 'relu', input_shape = (32,32,3)),\n",
        "        layers.MaxPool2D((2,2)),\n",
        "\n",
        "        layers.Conv2D(filters = 64, kernel_size = (3,3), activation = 'relu'),\n",
        "        layers.MaxPool2D((2,2)),\n",
        "\n",
        "        #Dense\n",
        "        layers.Flatten(input_shape=(32,32,3)),\n",
        "        layers.Dense(3000, activation='relu'),\n",
        "        layers.Dense(1000, activation='relu'),\n",
        "        layers.Dense(10, activation='softmax')    \n",
        "    ])\n",
        "\n",
        "cnn.compile(\n",
        "    optimizer = 'adam',\n",
        "    loss = 'sparse_categorical_crossentropy',\n",
        "    metrics = ['accuracy']\n",
        ")\n",
        "\n",
        "cnn.fit(x_train,y_train,epochs = 10)"
      ],
      "execution_count": null,
      "outputs": []
    }
  ]
}